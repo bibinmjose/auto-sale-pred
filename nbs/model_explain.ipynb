{
 "cells": [
  {
   "cell_type": "markdown",
   "metadata": {},
   "source": [
    "## Imports and data loading"
   ]
  },
  {
   "cell_type": "code",
   "execution_count": 1,
   "metadata": {},
   "outputs": [
    {
     "name": "stdout",
     "output_type": "stream",
     "text": [
      "/Users/bjose/Documents/petpro/auto-sale-prediction/nbs\n"
     ]
    }
   ],
   "source": [
    "!pwd"
   ]
  },
  {
   "cell_type": "code",
   "execution_count": 2,
   "metadata": {},
   "outputs": [
    {
     "name": "stdout",
     "output_type": "stream",
     "text": [
      "Pickle Version: 4.0\n"
     ]
    }
   ],
   "source": [
    "import numpy as np\n",
    "import seaborn as sns\n",
    "import pandas as pd\n",
    "import matplotlib.pyplot as plt\n",
    "from sklearn.linear_model import LinearRegression, Ridge\n",
    "from sklearn.model_selection import cross_val_score\n",
    "from sklearn.pipeline import make_pipeline\n",
    "from sklearn.preprocessing import StandardScaler\n",
    "from sklearn.impute import KNNImputer\n",
    "import pickle\n",
    "print(f'Pickle Version: {pickle.format_version}')"
   ]
  },
  {
   "cell_type": "code",
   "execution_count": 4,
   "metadata": {},
   "outputs": [],
   "source": [
    "_pth_tst = '../data/test_2022-08-08.csv'\n",
    "_pth_trn = '../data/train_2021-12-24.csv'\n",
    "_pth_emb = '../data/embeddings.pkl'\n",
    "_pth_enc ='../data/encoders.pkl'\n",
    "\n",
    "train = pd.read_csv(_pth_trn)\n",
    "test = pd.read_csv(_pth_tst)\n",
    "\n",
    "with open(_pth_emb, 'rb') as handle:\n",
    "    embeds = pickle.load(handle)"
   ]
  },
  {
   "cell_type": "code",
   "execution_count": 5,
   "metadata": {
    "collapsed": true,
    "jupyter": {
     "outputs_hidden": true
    },
    "tags": []
   },
   "outputs": [
    {
     "name": "stdout",
     "output_type": "stream",
     "text": [
      "<class 'pandas.core.frame.DataFrame'>\n",
      "RangeIndex: 99144 entries, 0 to 99143\n",
      "Data columns (total 21 columns):\n",
      " #   Column              Non-Null Count  Dtype  \n",
      "---  ------              --------------  -----  \n",
      " 0   Sale_Price          99144 non-null  float64\n",
      " 1   Odometer            99119 non-null  float64\n",
      " 2   Power               99090 non-null  float64\n",
      " 3   Fuel_Urban          87810 non-null  float64\n",
      " 4   Make_Code           99144 non-null  object \n",
      " 5   Family_Code         99144 non-null  object \n",
      " 6   Year_Group          99144 non-null  int64  \n",
      " 7   Region_Description  99144 non-null  object \n",
      " 8   Vehicle_Code        99144 non-null  int64  \n",
      " 9   adv_date            99144 non-null  object \n",
      " 10  sld_date            99144 non-null  object \n",
      " 11  inventory_days      99144 non-null  int64  \n",
      " 12  age_list_day        99144 non-null  int64  \n",
      " 13  age_sell_day        99144 non-null  int64  \n",
      " 14  sld_wknum           99144 non-null  int64  \n",
      " 15  adv_wknum           99144 non-null  int64  \n",
      " 16  km_per_day          99119 non-null  float64\n",
      " 17  fuel_per_power      87810 non-null  float64\n",
      " 18  odo_per_fuel        87789 non-null  float64\n",
      " 19  odo_per_power       99065 non-null  float64\n",
      " 20  pow_times_odo       99065 non-null  float64\n",
      "dtypes: float64(9), int64(7), object(5)\n",
      "memory usage: 15.9+ MB\n"
     ]
    }
   ],
   "source": [
    "train.info()"
   ]
  },
  {
   "cell_type": "markdown",
   "metadata": {},
   "source": [
    "## Retrive Encodings"
   ]
  },
  {
   "cell_type": "code",
   "execution_count": 6,
   "metadata": {},
   "outputs": [
    {
     "data": {
      "text/plain": [
       "['Make_Code', 'Family_Code', 'Region_Description']"
      ]
     },
     "execution_count": 6,
     "metadata": {},
     "output_type": "execute_result"
    }
   ],
   "source": [
    "feat_cols = ['Odometer', 'Power', 'Fuel_Urban', 'inventory_days', \n",
    "             'age_sell_day', 'km_per_day', 'fuel_per_power', \n",
    "             'odo_per_fuel', 'odo_per_power','pow_times_odo']\n",
    "\n",
    "enc_cols = list(embeds)\n",
    "enc_cols"
   ]
  },
  {
   "cell_type": "code",
   "execution_count": 9,
   "metadata": {},
   "outputs": [],
   "source": [
    "def get_embedded_feat(feat, encod_dict, feat_name='Family_Code'):\n",
    "    '''Return embeddings from feature column using encoded dict\n",
    "    '''\n",
    "    feat_df = feat.to_frame()\n",
    "    encodings = encod_dict[feat_name].reset_index()\n",
    "    feat_tranf = feat_df.merge(encodings, how='left', left_on=[feat_name], right_on=['index'], indicator=True)\n",
    "    # print(feat_tranf._merge.value_counts())\n",
    "    return feat_tranf.loc[:,[c for c in encodings.columns if c.startswith(feat_name)]]"
   ]
  },
  {
   "cell_type": "code",
   "execution_count": 10,
   "metadata": {},
   "outputs": [],
   "source": [
    "embed_dflist = []\n",
    "embed_dflist_test = []\n",
    "\n",
    "\n",
    "for f in list(embeds):\n",
    "    df = get_embedded_feat(train[f], embeds, feat_name=f)\n",
    "    embed_dflist.append(df)\n",
    "    df_test = get_embedded_feat(test[f], embeds, feat_name=f)\n",
    "    embed_dflist_test.append(df_test)"
   ]
  },
  {
   "cell_type": "markdown",
   "metadata": {
    "tags": []
   },
   "source": [
    "## Ridge Regression"
   ]
  },
  {
   "cell_type": "code",
   "execution_count": 11,
   "metadata": {},
   "outputs": [],
   "source": [
    "X_train_df = pd.concat([train.loc[:,feat_cols]]+embed_dflist, axis=1)\n",
    "y_train = train.loc[:,'Sale_Price']\n",
    "\n",
    "X_test_df = pd.concat([test.loc[:,feat_cols]]+embed_dflist_test, axis=1)\n",
    "y_test = test.loc[:,'Sale_Price']"
   ]
  },
  {
   "cell_type": "code",
   "execution_count": 12,
   "metadata": {},
   "outputs": [
    {
     "data": {
      "text/html": [
       "<div>\n",
       "<style scoped>\n",
       "    .dataframe tbody tr th:only-of-type {\n",
       "        vertical-align: middle;\n",
       "    }\n",
       "\n",
       "    .dataframe tbody tr th {\n",
       "        vertical-align: top;\n",
       "    }\n",
       "\n",
       "    .dataframe thead th {\n",
       "        text-align: right;\n",
       "    }\n",
       "</style>\n",
       "<table border=\"1\" class=\"dataframe\">\n",
       "  <thead>\n",
       "    <tr style=\"text-align: right;\">\n",
       "      <th></th>\n",
       "      <th>count</th>\n",
       "      <th>mean</th>\n",
       "      <th>std</th>\n",
       "      <th>min</th>\n",
       "      <th>25%</th>\n",
       "      <th>50%</th>\n",
       "      <th>75%</th>\n",
       "      <th>max</th>\n",
       "    </tr>\n",
       "  </thead>\n",
       "  <tbody>\n",
       "    <tr>\n",
       "      <th>Odometer</th>\n",
       "      <td>99119.0</td>\n",
       "      <td>80119.0</td>\n",
       "      <td>58326.0</td>\n",
       "      <td>0.0</td>\n",
       "      <td>37745.5</td>\n",
       "      <td>70801.0</td>\n",
       "      <td>111000.0</td>\n",
       "      <td>4000380.0</td>\n",
       "    </tr>\n",
       "    <tr>\n",
       "      <th>Power</th>\n",
       "      <td>99090.0</td>\n",
       "      <td>140.2</td>\n",
       "      <td>51.5</td>\n",
       "      <td>28.0</td>\n",
       "      <td>110.0</td>\n",
       "      <td>129.0</td>\n",
       "      <td>147.0</td>\n",
       "      <td>545.0</td>\n",
       "    </tr>\n",
       "    <tr>\n",
       "      <th>Fuel_Urban</th>\n",
       "      <td>87810.0</td>\n",
       "      <td>10.3</td>\n",
       "      <td>2.8</td>\n",
       "      <td>0.9</td>\n",
       "      <td>8.6</td>\n",
       "      <td>9.9</td>\n",
       "      <td>11.3</td>\n",
       "      <td>26.4</td>\n",
       "    </tr>\n",
       "    <tr>\n",
       "      <th>inventory_days</th>\n",
       "      <td>99144.0</td>\n",
       "      <td>35.2</td>\n",
       "      <td>38.2</td>\n",
       "      <td>1.0</td>\n",
       "      <td>14.0</td>\n",
       "      <td>27.0</td>\n",
       "      <td>46.0</td>\n",
       "      <td>2086.0</td>\n",
       "    </tr>\n",
       "    <tr>\n",
       "      <th>age_sell_day</th>\n",
       "      <td>99144.0</td>\n",
       "      <td>2189.3</td>\n",
       "      <td>1283.0</td>\n",
       "      <td>58.0</td>\n",
       "      <td>1269.0</td>\n",
       "      <td>1953.0</td>\n",
       "      <td>2879.0</td>\n",
       "      <td>9467.0</td>\n",
       "    </tr>\n",
       "    <tr>\n",
       "      <th>km_per_day</th>\n",
       "      <td>99119.0</td>\n",
       "      <td>36.5</td>\n",
       "      <td>20.7</td>\n",
       "      <td>0.0</td>\n",
       "      <td>23.2</td>\n",
       "      <td>34.1</td>\n",
       "      <td>46.6</td>\n",
       "      <td>2132.4</td>\n",
       "    </tr>\n",
       "    <tr>\n",
       "      <th>fuel_per_power</th>\n",
       "      <td>87810.0</td>\n",
       "      <td>0.1</td>\n",
       "      <td>0.0</td>\n",
       "      <td>0.0</td>\n",
       "      <td>0.1</td>\n",
       "      <td>0.1</td>\n",
       "      <td>0.1</td>\n",
       "      <td>0.2</td>\n",
       "    </tr>\n",
       "    <tr>\n",
       "      <th>odo_per_fuel</th>\n",
       "      <td>87789.0</td>\n",
       "      <td>7482.1</td>\n",
       "      <td>5571.3</td>\n",
       "      <td>0.0</td>\n",
       "      <td>3611.7</td>\n",
       "      <td>6639.8</td>\n",
       "      <td>10290.0</td>\n",
       "      <td>519529.9</td>\n",
       "    </tr>\n",
       "    <tr>\n",
       "      <th>odo_per_power</th>\n",
       "      <td>99065.0</td>\n",
       "      <td>636.7</td>\n",
       "      <td>515.7</td>\n",
       "      <td>0.0</td>\n",
       "      <td>270.1</td>\n",
       "      <td>529.9</td>\n",
       "      <td>875.2</td>\n",
       "      <td>28371.5</td>\n",
       "    </tr>\n",
       "    <tr>\n",
       "      <th>pow_times_odo</th>\n",
       "      <td>99065.0</td>\n",
       "      <td>11081457.4</td>\n",
       "      <td>8994626.7</td>\n",
       "      <td>0.0</td>\n",
       "      <td>4664149.0</td>\n",
       "      <td>9124050.0</td>\n",
       "      <td>15190890.0</td>\n",
       "      <td>564053580.0</td>\n",
       "    </tr>\n",
       "    <tr>\n",
       "      <th>Make_Code_embedding_0</th>\n",
       "      <td>99144.0</td>\n",
       "      <td>0.0</td>\n",
       "      <td>0.2</td>\n",
       "      <td>-1.4</td>\n",
       "      <td>-0.0</td>\n",
       "      <td>0.1</td>\n",
       "      <td>0.1</td>\n",
       "      <td>0.4</td>\n",
       "    </tr>\n",
       "    <tr>\n",
       "      <th>Make_Code_embedding_1</th>\n",
       "      <td>99144.0</td>\n",
       "      <td>-0.0</td>\n",
       "      <td>0.1</td>\n",
       "      <td>-0.2</td>\n",
       "      <td>-0.1</td>\n",
       "      <td>-0.0</td>\n",
       "      <td>0.0</td>\n",
       "      <td>1.4</td>\n",
       "    </tr>\n",
       "    <tr>\n",
       "      <th>Family_Code_embedding_0</th>\n",
       "      <td>99144.0</td>\n",
       "      <td>-0.0</td>\n",
       "      <td>0.2</td>\n",
       "      <td>-1.4</td>\n",
       "      <td>-0.1</td>\n",
       "      <td>-0.0</td>\n",
       "      <td>0.1</td>\n",
       "      <td>0.5</td>\n",
       "    </tr>\n",
       "    <tr>\n",
       "      <th>Family_Code_embedding_1</th>\n",
       "      <td>99144.0</td>\n",
       "      <td>0.0</td>\n",
       "      <td>0.1</td>\n",
       "      <td>-0.5</td>\n",
       "      <td>-0.1</td>\n",
       "      <td>0.0</td>\n",
       "      <td>0.1</td>\n",
       "      <td>1.5</td>\n",
       "    </tr>\n",
       "    <tr>\n",
       "      <th>Region_Description_embedding_0</th>\n",
       "      <td>99144.0</td>\n",
       "      <td>0.2</td>\n",
       "      <td>0.4</td>\n",
       "      <td>-0.8</td>\n",
       "      <td>-0.1</td>\n",
       "      <td>0.2</td>\n",
       "      <td>0.4</td>\n",
       "      <td>0.8</td>\n",
       "    </tr>\n",
       "    <tr>\n",
       "      <th>Region_Description_embedding_1</th>\n",
       "      <td>99144.0</td>\n",
       "      <td>0.3</td>\n",
       "      <td>0.3</td>\n",
       "      <td>-0.3</td>\n",
       "      <td>-0.0</td>\n",
       "      <td>0.4</td>\n",
       "      <td>0.6</td>\n",
       "      <td>0.6</td>\n",
       "    </tr>\n",
       "  </tbody>\n",
       "</table>\n",
       "</div>"
      ],
      "text/plain": [
       "                                  count        mean        std   min  \\\n",
       "Odometer                        99119.0     80119.0    58326.0   0.0   \n",
       "Power                           99090.0       140.2       51.5  28.0   \n",
       "Fuel_Urban                      87810.0        10.3        2.8   0.9   \n",
       "inventory_days                  99144.0        35.2       38.2   1.0   \n",
       "age_sell_day                    99144.0      2189.3     1283.0  58.0   \n",
       "km_per_day                      99119.0        36.5       20.7   0.0   \n",
       "fuel_per_power                  87810.0         0.1        0.0   0.0   \n",
       "odo_per_fuel                    87789.0      7482.1     5571.3   0.0   \n",
       "odo_per_power                   99065.0       636.7      515.7   0.0   \n",
       "pow_times_odo                   99065.0  11081457.4  8994626.7   0.0   \n",
       "Make_Code_embedding_0           99144.0         0.0        0.2  -1.4   \n",
       "Make_Code_embedding_1           99144.0        -0.0        0.1  -0.2   \n",
       "Family_Code_embedding_0         99144.0        -0.0        0.2  -1.4   \n",
       "Family_Code_embedding_1         99144.0         0.0        0.1  -0.5   \n",
       "Region_Description_embedding_0  99144.0         0.2        0.4  -0.8   \n",
       "Region_Description_embedding_1  99144.0         0.3        0.3  -0.3   \n",
       "\n",
       "                                      25%        50%         75%          max  \n",
       "Odometer                          37745.5    70801.0    111000.0    4000380.0  \n",
       "Power                               110.0      129.0       147.0        545.0  \n",
       "Fuel_Urban                            8.6        9.9        11.3         26.4  \n",
       "inventory_days                       14.0       27.0        46.0       2086.0  \n",
       "age_sell_day                       1269.0     1953.0      2879.0       9467.0  \n",
       "km_per_day                           23.2       34.1        46.6       2132.4  \n",
       "fuel_per_power                        0.1        0.1         0.1          0.2  \n",
       "odo_per_fuel                       3611.7     6639.8     10290.0     519529.9  \n",
       "odo_per_power                       270.1      529.9       875.2      28371.5  \n",
       "pow_times_odo                   4664149.0  9124050.0  15190890.0  564053580.0  \n",
       "Make_Code_embedding_0                -0.0        0.1         0.1          0.4  \n",
       "Make_Code_embedding_1                -0.1       -0.0         0.0          1.4  \n",
       "Family_Code_embedding_0              -0.1       -0.0         0.1          0.5  \n",
       "Family_Code_embedding_1              -0.1        0.0         0.1          1.5  \n",
       "Region_Description_embedding_0       -0.1        0.2         0.4          0.8  \n",
       "Region_Description_embedding_1       -0.0        0.4         0.6          0.6  "
      ]
     },
     "execution_count": 12,
     "metadata": {},
     "output_type": "execute_result"
    }
   ],
   "source": [
    "X_train_df.describe().T.round(1)"
   ]
  },
  {
   "cell_type": "code",
   "execution_count": null,
   "metadata": {},
   "outputs": [],
   "source": [
    "knn = KNNImputer()\n",
    "X_train = knn.fit_transform(X_train_df)\n",
    "X_test = knn.transform(X_test_df)"
   ]
  },
  {
   "cell_type": "code",
   "execution_count": null,
   "metadata": {},
   "outputs": [],
   "source": []
  },
  {
   "cell_type": "markdown",
   "metadata": {},
   "source": [
    "## SHAPE explainer"
   ]
  },
  {
   "cell_type": "code",
   "execution_count": 12,
   "metadata": {},
   "outputs": [],
   "source": [
    "import shap"
   ]
  },
  {
   "cell_type": "code",
   "execution_count": null,
   "metadata": {},
   "outputs": [],
   "source": []
  }
 ],
 "metadata": {
  "instance_type": "ml.t3.medium",
  "kernelspec": {
   "display_name": "auto",
   "language": "python",
   "name": "auto"
  },
  "language_info": {
   "codemirror_mode": {
    "name": "ipython",
    "version": 3
   },
   "file_extension": ".py",
   "mimetype": "text/x-python",
   "name": "python",
   "nbconvert_exporter": "python",
   "pygments_lexer": "ipython3",
   "version": "3.10.4"
  }
 },
 "nbformat": 4,
 "nbformat_minor": 4
}
