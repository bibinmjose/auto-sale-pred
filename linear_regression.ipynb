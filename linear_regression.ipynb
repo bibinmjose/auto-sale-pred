{
 "cells": [
  {
   "cell_type": "code",
   "execution_count": 2,
   "metadata": {},
   "outputs": [
    {
     "name": "stdout",
     "output_type": "stream",
     "text": [
      "Pickle Version: 4.0\n"
     ]
    }
   ],
   "source": [
    "import numpy as np\n",
    "import pandas as pd\n",
    "from sklearn.linear_model import LinearRegression\n",
    "import pickle\n",
    "print(f'Pickle Version: {pickle.format_version}')"
   ]
  },
  {
   "cell_type": "code",
   "execution_count": 3,
   "metadata": {},
   "outputs": [],
   "source": [
    "_pth_tst = 'data/test_2022-08-08.csv'\n",
    "_pth_trn = 'data/train_2021-12-24.csv'\n",
    "_pth_emb = 'data/embeddings.pkl'\n",
    "_pth_enc ='data/encoders.pkl'\n",
    "\n",
    "train = pd.read_csv(_pth_trn)\n",
    "test = pd.read_csv(_pth_tst)\n",
    "\n",
    "with open(_pth_emb, 'rb') as handle:\n",
    "    embeds = pickle.load(handle)"
   ]
  },
  {
   "cell_type": "code",
   "execution_count": 4,
   "metadata": {},
   "outputs": [
    {
     "name": "stderr",
     "output_type": "stream",
     "text": [
      "Using TensorFlow backend.\n"
     ]
    },
    {
     "name": "stdout",
     "output_type": "stream",
     "text": [
      "WARNING:tensorflow:From /usr/local/lib/python3.6/site-packages/tensorflow_core/__init__.py:1473: The name tf.estimator.inputs is deprecated. Please use tf.compat.v1.estimator.inputs instead.\n",
      "\n"
     ]
    }
   ],
   "source": [
    "with open(_pth_enc, 'rb') as handle:\n",
    "    ecode = pickle.load(handle)"
   ]
  },
  {
   "cell_type": "code",
   "execution_count": 5,
   "metadata": {},
   "outputs": [
    {
     "data": {
      "text/plain": [
       "{'Make_Code': __LabelEncoder__(),\n",
       " 'Family_Code': __LabelEncoder__(),\n",
       " 'Region_Description': __LabelEncoder__()}"
      ]
     },
     "execution_count": 5,
     "metadata": {},
     "output_type": "execute_result"
    }
   ],
   "source": [
    "ecode"
   ]
  },
  {
   "cell_type": "code",
   "execution_count": 6,
   "metadata": {},
   "outputs": [
    {
     "name": "stdout",
     "output_type": "stream",
     "text": [
      "<class 'pandas.core.frame.DataFrame'>\n",
      "RangeIndex: 99144 entries, 0 to 99143\n",
      "Data columns (total 19 columns):\n",
      "adv_date              99144 non-null object\n",
      "sld_date              99144 non-null object\n",
      "make_date             99144 non-null object\n",
      "Sale_Price            99144 non-null float64\n",
      "Odometer              99119 non-null float64\n",
      "Power                 99090 non-null float64\n",
      "Fuel_Urban            87810 non-null float64\n",
      "Make_Code             99144 non-null object\n",
      "Family_Code           99144 non-null object\n",
      "Region_Description    99144 non-null object\n",
      "Vehicle_Code          99144 non-null int64\n",
      "inventory_days        99144 non-null int64\n",
      "age_list_day          99144 non-null int64\n",
      "age_sell_day          99144 non-null int64\n",
      "km_per_day            99119 non-null float64\n",
      "fuel_per_power        87810 non-null float64\n",
      "odo_per_fuel          87789 non-null float64\n",
      "odo_per_power         99065 non-null float64\n",
      "pow_times_odo         99065 non-null float64\n",
      "dtypes: float64(9), int64(4), object(6)\n",
      "memory usage: 14.4+ MB\n"
     ]
    }
   ],
   "source": [
    "train.info()"
   ]
  },
  {
   "cell_type": "code",
   "execution_count": null,
   "metadata": {},
   "outputs": [],
   "source": []
  }
 ],
 "metadata": {
  "instance_type": "ml.t3.medium",
  "kernelspec": {
   "display_name": "Python 3 (TensorFlow 1.15 Python 3.6 CPU Optimized)",
   "language": "python",
   "name": "python3__SAGEMAKER_INTERNAL__arn:aws:sagemaker:ap-southeast-1:492261229750:image/tensorflow-1.15-cpu-py36"
  },
  "language_info": {
   "codemirror_mode": {
    "name": "ipython",
    "version": 3
   },
   "file_extension": ".py",
   "mimetype": "text/x-python",
   "name": "python",
   "nbconvert_exporter": "python",
   "pygments_lexer": "ipython3",
   "version": "3.6.13"
  }
 },
 "nbformat": 4,
 "nbformat_minor": 4
}
