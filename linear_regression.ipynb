{
 "cells": [
  {
   "cell_type": "code",
   "execution_count": 127,
   "metadata": {},
   "outputs": [
    {
     "name": "stdout",
     "output_type": "stream",
     "text": [
      "Pickle Version: 4.0\n"
     ]
    }
   ],
   "source": [
    "import numpy as np\n",
    "import seaborn as sns\n",
    "import pandas as pd\n",
    "from sklearn.linear_model import LinearRegression\n",
    "import pickle\n",
    "print(f'Pickle Version: {pickle.format_version}')"
   ]
  },
  {
   "cell_type": "code",
   "execution_count": 3,
   "metadata": {},
   "outputs": [],
   "source": [
    "_pth_tst = 'data/test_2022-08-08.csv'\n",
    "_pth_trn = 'data/train_2021-12-24.csv'\n",
    "_pth_emb = 'data/embeddings.pkl'\n",
    "_pth_enc ='data/encoders.pkl'\n",
    "\n",
    "train = pd.read_csv(_pth_trn)\n",
    "test = pd.read_csv(_pth_tst)\n",
    "\n",
    "with open(_pth_emb, 'rb') as handle:\n",
    "    embeds = pickle.load(handle)"
   ]
  },
  {
   "cell_type": "code",
   "execution_count": 4,
   "metadata": {},
   "outputs": [
    {
     "name": "stderr",
     "output_type": "stream",
     "text": [
      "Using TensorFlow backend.\n"
     ]
    },
    {
     "name": "stdout",
     "output_type": "stream",
     "text": [
      "WARNING:tensorflow:From /usr/local/lib/python3.6/site-packages/tensorflow_core/__init__.py:1473: The name tf.estimator.inputs is deprecated. Please use tf.compat.v1.estimator.inputs instead.\n",
      "\n"
     ]
    }
   ],
   "source": [
    "# with open(_pth_enc, 'rb') as handle:\n",
    "#     ecode = pickle.load(handle)"
   ]
  },
  {
   "cell_type": "code",
   "execution_count": 7,
   "metadata": {},
   "outputs": [
    {
     "name": "stdout",
     "output_type": "stream",
     "text": [
      "<class 'pandas.core.frame.DataFrame'>\n",
      "RangeIndex: 99144 entries, 0 to 99143\n",
      "Data columns (total 19 columns):\n",
      "adv_date              99144 non-null object\n",
      "sld_date              99144 non-null object\n",
      "make_date             99144 non-null object\n",
      "Sale_Price            99144 non-null float64\n",
      "Odometer              99119 non-null float64\n",
      "Power                 99090 non-null float64\n",
      "Fuel_Urban            87810 non-null float64\n",
      "Make_Code             99144 non-null object\n",
      "Family_Code           99144 non-null object\n",
      "Region_Description    99144 non-null object\n",
      "Vehicle_Code          99144 non-null int64\n",
      "inventory_days        99144 non-null int64\n",
      "age_list_day          99144 non-null int64\n",
      "age_sell_day          99144 non-null int64\n",
      "km_per_day            99119 non-null float64\n",
      "fuel_per_power        87810 non-null float64\n",
      "odo_per_fuel          87789 non-null float64\n",
      "odo_per_power         99065 non-null float64\n",
      "pow_times_odo         99065 non-null float64\n",
      "dtypes: float64(9), int64(4), object(6)\n",
      "memory usage: 14.4+ MB\n"
     ]
    }
   ],
   "source": [
    "train.info()"
   ]
  },
  {
   "cell_type": "code",
   "execution_count": 8,
   "metadata": {},
   "outputs": [
    {
     "data": {
      "text/plain": [
       "Index(['adv_date', 'sld_date', 'make_date', 'Sale_Price', 'Odometer', 'Power',\n",
       "       'Fuel_Urban', 'Make_Code', 'Family_Code', 'Region_Description',\n",
       "       'Vehicle_Code', 'inventory_days', 'age_list_day', 'age_sell_day',\n",
       "       'km_per_day', 'fuel_per_power', 'odo_per_fuel', 'odo_per_power',\n",
       "       'pow_times_odo'],\n",
       "      dtype='object')"
      ]
     },
     "execution_count": 8,
     "metadata": {},
     "output_type": "execute_result"
    }
   ],
   "source": [
    "train.columns"
   ]
  },
  {
   "cell_type": "code",
   "execution_count": 14,
   "metadata": {},
   "outputs": [
    {
     "data": {
      "text/plain": [
       "['Make_Code', 'Family_Code', 'Region_Description']"
      ]
     },
     "execution_count": 14,
     "metadata": {},
     "output_type": "execute_result"
    }
   ],
   "source": [
    "enc_cols = list(ecode)\n",
    "enc_cols"
   ]
  },
  {
   "cell_type": "code",
   "execution_count": 130,
   "metadata": {},
   "outputs": [],
   "source": [
    "feat_cols = ['Odometer', 'Power', 'Fuel_Urban', 'inventory_days', \n",
    "             'age_sell_day', 'km_per_day', 'fuel_per_power', \n",
    "             'odo_per_fuel', 'odo_per_power','pow_times_odo']\n",
    "\n",
    "enc_cols = list(ecode)"
   ]
  },
  {
   "cell_type": "code",
   "execution_count": 107,
   "metadata": {},
   "outputs": [],
   "source": [
    "def get_embedded_feat(feat, encod_dict, feat_name='Family_Code'):\n",
    "    '''Return embeddings from feature column using encoded dict\n",
    "    '''\n",
    "    feat_df = feat.to_frame()\n",
    "    encodings = encod_dict[feat_name].reset_index()\n",
    "    feat_tranf = feat_df.merge(encodings, how='left', left_on=[feat_name], right_on=['index'], indicator=True)\n",
    "    print(feat_tranf._merge.value_counts())\n",
    "    return feat_tranf.loc[:,[c for c in encodings.columns if c.startswith(feat_name)]]"
   ]
  },
  {
   "cell_type": "code",
   "execution_count": 108,
   "metadata": {},
   "outputs": [
    {
     "data": {
      "text/plain": [
       "['Make_Code', 'Family_Code', 'Region_Description']"
      ]
     },
     "execution_count": 108,
     "metadata": {},
     "output_type": "execute_result"
    }
   ],
   "source": [
    "list(embeds)"
   ]
  },
  {
   "cell_type": "code",
   "execution_count": 109,
   "metadata": {},
   "outputs": [
    {
     "name": "stdout",
     "output_type": "stream",
     "text": [
      "both          99144\n",
      "right_only        0\n",
      "left_only         0\n",
      "Name: _merge, dtype: int64\n",
      "both          99144\n",
      "right_only        0\n",
      "left_only         0\n",
      "Name: _merge, dtype: int64\n",
      "both          99144\n",
      "right_only        0\n",
      "left_only         0\n",
      "Name: _merge, dtype: int64\n"
     ]
    }
   ],
   "source": [
    "embed_dflist = []\n",
    "\n",
    "for f in list(embeds):\n",
    "    df = get_embedded_feat(train[f], embeds, feat_name=f)\n",
    "    embed_dflist.append(df)"
   ]
  },
  {
   "cell_type": "code",
   "execution_count": 125,
   "metadata": {},
   "outputs": [],
   "source": [
    "X_train_df = pd.concat([train.loc[:,feat_cols]]+embed_dflist, axis=1)"
   ]
  },
  {
   "cell_type": "code",
   "execution_count": 132,
   "metadata": {},
   "outputs": [
    {
     "data": {
      "text/plain": [
       "<AxesSubplot:>"
      ]
     },
     "execution_count": 132,
     "metadata": {},
     "output_type": "execute_result"
    },
    {
     "data": {
      "image/png": "[encoded data removed]",
      "text/plain": [
       "<Figure size 432x288 with 2 Axes>"
      ]
     },
     "metadata": {
      "needs_background": "light"
     },
     "output_type": "display_data"
    }
   ],
   "source": [
    "sns.heatmap(X_train_df.corr(), vmax=1, vmin=-1, center=0)"
   ]
  },
  {
   "cell_type": "code",
   "execution_count": null,
   "metadata": {},
   "outputs": [],
   "source": []
  }
 ],
 "metadata": {
  "instance_type": "ml.t3.medium",
  "kernelspec": {
   "display_name": "Python 3 (TensorFlow 1.15 Python 3.6 CPU Optimized)",
   "language": "python",
   "name": "python3__SAGEMAKER_INTERNAL__arn:aws:sagemaker:ap-southeast-1:492261229750:image/tensorflow-1.15-cpu-py36"
  },
  "language_info": {
   "codemirror_mode": {
    "name": "ipython",
    "version": 3
   },
   "file_extension": ".py",
   "mimetype": "text/x-python",
   "name": "python",
   "nbconvert_exporter": "python",
   "pygments_lexer": "ipython3",
   "version": "3.6.13"
  }
 },
 "nbformat": 4,
 "nbformat_minor": 4
}
