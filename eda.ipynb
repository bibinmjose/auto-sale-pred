{
 "cells": [
  {
   "cell_type": "markdown",
   "id": "5ae33ba1-6cbd-4539-9aee-740dc82ad9e8",
   "metadata": {},
   "source": [
    "## imports and paths"
   ]
  },
  {
   "cell_type": "code",
   "execution_count": 26,
   "id": "08ea0d38-2f7b-4a9a-9468-26b95a24b0f3",
   "metadata": {},
   "outputs": [],
   "source": [
    "import pandas as pd\n",
    "import numpy as np\n",
    "import matplotlib.pyplot as plt"
   ]
  },
  {
   "cell_type": "code",
   "execution_count": 101,
   "id": "6b50212f-1156-41de-b72a-724c83f04dea",
   "metadata": {},
   "outputs": [],
   "source": [
    "_pth = 'data/saleprice_dataset.csv'\n",
    "_cols = ['Advertised_Date', 'Sold_Date', 'Sale_Price', 'Odometer',\n",
    "         'Power', 'Fuel_Urban', 'Make_Code', 'Family_Code', 'Year_Group',\n",
    "         'Region_Description', 'Vehicle_Code']\n",
    "\n",
    "raw_sale = pd.read_csv(_pth, usecols=range(1,12))"
   ]
  },
  {
   "cell_type": "code",
   "execution_count": 45,
   "id": "67fbbc25-1ac4-4022-9233-517f56da7c71",
   "metadata": {},
   "outputs": [
    {
     "data": {
      "text/html": [
       "<div>\n",
       "<style scoped>\n",
       "    .dataframe tbody tr th:only-of-type {\n",
       "        vertical-align: middle;\n",
       "    }\n",
       "\n",
       "    .dataframe tbody tr th {\n",
       "        vertical-align: top;\n",
       "    }\n",
       "\n",
       "    .dataframe thead th {\n",
       "        text-align: right;\n",
       "    }\n",
       "</style>\n",
       "<table border=\"1\" class=\"dataframe\">\n",
       "  <thead>\n",
       "    <tr style=\"text-align: right;\">\n",
       "      <th></th>\n",
       "      <th>Advertised_Date</th>\n",
       "      <th>Sold_Date</th>\n",
       "      <th>Sale_Price</th>\n",
       "      <th>Odometer</th>\n",
       "      <th>Power</th>\n",
       "      <th>Fuel_Urban</th>\n",
       "      <th>Make_Code</th>\n",
       "      <th>Family_Code</th>\n",
       "      <th>Year_Group</th>\n",
       "      <th>Region_Description</th>\n",
       "      <th>Vehicle_Code</th>\n",
       "    </tr>\n",
       "  </thead>\n",
       "  <tbody>\n",
       "    <tr>\n",
       "      <th>0</th>\n",
       "      <td>2020-06-24 00:00:00</td>\n",
       "      <td>2020-07-23</td>\n",
       "      <td>46935.54</td>\n",
       "      <td>7756.0</td>\n",
       "      <td>213.0</td>\n",
       "      <td>13.5</td>\n",
       "      <td>JEEP</td>\n",
       "      <td>GRAND</td>\n",
       "      <td>2019</td>\n",
       "      <td>WA</td>\n",
       "      <td>4126136366665310352</td>\n",
       "    </tr>\n",
       "    <tr>\n",
       "      <th>1</th>\n",
       "      <td>2019-11-21 00:00:00</td>\n",
       "      <td>2020-01-13</td>\n",
       "      <td>60556.34</td>\n",
       "      <td>2200.0</td>\n",
       "      <td>184.0</td>\n",
       "      <td>9.3</td>\n",
       "      <td>JEEP</td>\n",
       "      <td>GRAND</td>\n",
       "      <td>2019</td>\n",
       "      <td>WA</td>\n",
       "      <td>4976226188052338111</td>\n",
       "    </tr>\n",
       "  </tbody>\n",
       "</table>\n",
       "</div>"
      ],
      "text/plain": [
       "       Advertised_Date   Sold_Date  Sale_Price  Odometer  Power  Fuel_Urban  \\\n",
       "0  2020-06-24 00:00:00  2020-07-23    46935.54    7756.0  213.0        13.5   \n",
       "1  2019-11-21 00:00:00  2020-01-13    60556.34    2200.0  184.0         9.3   \n",
       "\n",
       "  Make_Code Family_Code  Year_Group Region_Description         Vehicle_Code  \n",
       "0      JEEP       GRAND        2019                 WA  4126136366665310352  \n",
       "1      JEEP       GRAND        2019                 WA  4976226188052338111  "
      ]
     },
     "execution_count": 45,
     "metadata": {},
     "output_type": "execute_result"
    }
   ],
   "source": [
    "raw_sale.head(2)"
   ]
  },
  {
   "cell_type": "markdown",
   "id": "8c0e6aca-b358-46ad-bbe4-da5229b1478e",
   "metadata": {},
   "source": [
    "## Summary Stats"
   ]
  },
  {
   "cell_type": "code",
   "execution_count": 54,
   "id": "aeeab3be-c063-47a2-a381-50671000bb9c",
   "metadata": {},
   "outputs": [
    {
     "name": "stdout",
     "output_type": "stream",
     "text": [
      "<class 'pandas.core.frame.DataFrame'>\n",
      "RangeIndex: 122595 entries, 0 to 122594\n",
      "Data columns (total 11 columns):\n",
      " #   Column              Non-Null Count   Dtype         \n",
      "---  ------              --------------   -----         \n",
      " 0   Advertised_Date     122595 non-null  object        \n",
      " 1   Sold_Date           122595 non-null  datetime64[ns]\n",
      " 2   Sale_Price          122595 non-null  float64       \n",
      " 3   Odometer            122563 non-null  float64       \n",
      " 4   Power               122516 non-null  float64       \n",
      " 5   Fuel_Urban          108789 non-null  float64       \n",
      " 6   Make_Code           122595 non-null  object        \n",
      " 7   Family_Code         122595 non-null  object        \n",
      " 8   Year_Group          122595 non-null  int64         \n",
      " 9   Region_Description  122595 non-null  object        \n",
      " 10  Vehicle_Code        122595 non-null  int64         \n",
      "dtypes: datetime64[ns](1), float64(4), int64(2), object(4)\n",
      "memory usage: 10.3+ MB\n"
     ]
    }
   ],
   "source": [
    "raw_sale_sale.info()"
   ]
  },
  {
   "cell_type": "code",
   "execution_count": 130,
   "id": "e35a9823-6fb2-462c-aa01-da3f0042e746",
   "metadata": {},
   "outputs": [
    {
     "data": {
      "text/html": [
       "<div>\n",
       "<style scoped>\n",
       "    .dataframe tbody tr th:only-of-type {\n",
       "        vertical-align: middle;\n",
       "    }\n",
       "\n",
       "    .dataframe tbody tr th {\n",
       "        vertical-align: top;\n",
       "    }\n",
       "\n",
       "    .dataframe thead th {\n",
       "        text-align: right;\n",
       "    }\n",
       "</style>\n",
       "<table border=\"1\" class=\"dataframe\">\n",
       "  <thead>\n",
       "    <tr style=\"text-align: right;\">\n",
       "      <th></th>\n",
       "      <th>Sale_Price</th>\n",
       "      <th>Odometer</th>\n",
       "      <th>Power</th>\n",
       "      <th>Fuel_Urban</th>\n",
       "      <th>Year_Group</th>\n",
       "      <th>Vehicle_Code</th>\n",
       "    </tr>\n",
       "  </thead>\n",
       "  <tbody>\n",
       "    <tr>\n",
       "      <th>count</th>\n",
       "      <td>122595.0</td>\n",
       "      <td>122563.0</td>\n",
       "      <td>122516.0</td>\n",
       "      <td>108789.0</td>\n",
       "      <td>122595.0</td>\n",
       "      <td>1.225950e+05</td>\n",
       "    </tr>\n",
       "    <tr>\n",
       "      <th>mean</th>\n",
       "      <td>24603.0</td>\n",
       "      <td>81177.0</td>\n",
       "      <td>140.0</td>\n",
       "      <td>10.0</td>\n",
       "      <td>2015.0</td>\n",
       "      <td>5.527551e+16</td>\n",
       "    </tr>\n",
       "    <tr>\n",
       "      <th>std</th>\n",
       "      <td>18363.0</td>\n",
       "      <td>58879.0</td>\n",
       "      <td>51.0</td>\n",
       "      <td>3.0</td>\n",
       "      <td>4.0</td>\n",
       "      <td>5.311129e+18</td>\n",
       "    </tr>\n",
       "    <tr>\n",
       "      <th>min</th>\n",
       "      <td>91.0</td>\n",
       "      <td>0.0</td>\n",
       "      <td>28.0</td>\n",
       "      <td>1.0</td>\n",
       "      <td>1996.0</td>\n",
       "      <td>-9.222430e+18</td>\n",
       "    </tr>\n",
       "    <tr>\n",
       "      <th>25%</th>\n",
       "      <td>13497.0</td>\n",
       "      <td>38277.0</td>\n",
       "      <td>110.0</td>\n",
       "      <td>8.0</td>\n",
       "      <td>2013.0</td>\n",
       "      <td>-4.530959e+18</td>\n",
       "    </tr>\n",
       "    <tr>\n",
       "      <th>50%</th>\n",
       "      <td>20573.0</td>\n",
       "      <td>71759.0</td>\n",
       "      <td>129.0</td>\n",
       "      <td>10.0</td>\n",
       "      <td>2015.0</td>\n",
       "      <td>1.060213e+17</td>\n",
       "    </tr>\n",
       "    <tr>\n",
       "      <th>75%</th>\n",
       "      <td>30900.0</td>\n",
       "      <td>112554.0</td>\n",
       "      <td>147.0</td>\n",
       "      <td>11.0</td>\n",
       "      <td>2017.0</td>\n",
       "      <td>4.637276e+18</td>\n",
       "    </tr>\n",
       "    <tr>\n",
       "      <th>max</th>\n",
       "      <td>694545.0</td>\n",
       "      <td>4000380.0</td>\n",
       "      <td>545.0</td>\n",
       "      <td>26.0</td>\n",
       "      <td>2021.0</td>\n",
       "      <td>9.222305e+18</td>\n",
       "    </tr>\n",
       "  </tbody>\n",
       "</table>\n",
       "</div>"
      ],
      "text/plain": [
       "       Sale_Price   Odometer     Power  Fuel_Urban  Year_Group  Vehicle_Code\n",
       "count    122595.0   122563.0  122516.0    108789.0    122595.0  1.225950e+05\n",
       "mean      24603.0    81177.0     140.0        10.0      2015.0  5.527551e+16\n",
       "std       18363.0    58879.0      51.0         3.0         4.0  5.311129e+18\n",
       "min          91.0        0.0      28.0         1.0      1996.0 -9.222430e+18\n",
       "25%       13497.0    38277.0     110.0         8.0      2013.0 -4.530959e+18\n",
       "50%       20573.0    71759.0     129.0        10.0      2015.0  1.060213e+17\n",
       "75%       30900.0   112554.0     147.0        11.0      2017.0  4.637276e+18\n",
       "max      694545.0  4000380.0     545.0        26.0      2021.0  9.222305e+18"
      ]
     },
     "execution_count": 130,
     "metadata": {},
     "output_type": "execute_result"
    }
   ],
   "source": [
    "raw_sale.describe().round() #stat summary"
   ]
  },
  {
   "cell_type": "code",
   "execution_count": 95,
   "id": "1e5f9c17-fe09-44ab-a67d-fbab34436f5c",
   "metadata": {
    "tags": []
   },
   "outputs": [
    {
     "data": {
      "image/png": "[encoded data removed]",
      "text/plain": [
       "<Figure size 640x480 with 4 Axes>"
      ]
     },
     "metadata": {},
     "output_type": "display_data"
    }
   ],
   "source": [
    "raw_sale.select_dtypes('float').hist(bins=50) # might have to lof-tranform sale_price and odometer\n",
    "plt.show()"
   ]
  },
  {
   "cell_type": "code",
   "execution_count": 131,
   "id": "f0e52c87-9f79-4308-b2bc-66be5e0ee681",
   "metadata": {
    "tags": []
   },
   "outputs": [
    {
     "data": {
      "image/png": "[encoded data removed]",
      "text/plain": [
       "<Figure size 640x480 with 4 Axes>"
      ]
     },
     "metadata": {},
     "output_type": "display_data"
    }
   ],
   "source": [
    "raw_sale.select_dtypes('float').applymap(lambda x: np.log(x+1e-2)).hist(bins=50) # might have to log-tranform some features\n",
    "plt.show()"
   ]
  },
  {
   "cell_type": "markdown",
   "id": "15a91849-07b5-415a-8242-ed00894220e2",
   "metadata": {
    "tags": []
   },
   "source": [
    "## EDA Individual Columns"
   ]
  },
  {
   "cell_type": "markdown",
   "id": "91389d66-ee48-402b-95d9-8ff3ee9c8bac",
   "metadata": {
    "tags": []
   },
   "source": [
    "### Year_Group"
   ]
  },
  {
   "cell_type": "code",
   "execution_count": 152,
   "id": "769d047e-44d7-49fb-9fbb-23d639ef3d6e",
   "metadata": {},
   "outputs": [
    {
     "data": {
      "text/plain": [
       "<AxesSubplot:>"
      ]
     },
     "execution_count": 152,
     "metadata": {},
     "output_type": "execute_result"
    },
    {
     "data": {
      "image/png": "[encoded data removed]",
      "text/plain": [
       "<Figure size 500x200 with 1 Axes>"
      ]
     },
     "metadata": {},
     "output_type": "display_data"
    }
   ],
   "source": [
    "raw_sale.Year_Group.value_counts().sort_index().plot.bar(figsize=(5,2)) #how many records per `Year_Group`? What is year_group: perhaps make of model)?"
   ]
  },
  {
   "cell_type": "code",
   "execution_count": 104,
   "id": "90a913f4-9fc0-4123-ac34-75c61d69e4f7",
   "metadata": {},
   "outputs": [
    {
     "data": {
      "text/plain": [
       "array(['2020', '2019', '2021', '2022', '2018'], dtype=object)"
      ]
     },
     "execution_count": 104,
     "metadata": {},
     "output_type": "execute_result"
    }
   ],
   "source": [
    "# how many years of sales data is there?\n",
    "raw_sale.Sold_Date.str[:4].unique()"
   ]
  },
  {
   "cell_type": "markdown",
   "id": "4c55fa99-45a6-4a00-b591-1324dd704f78",
   "metadata": {},
   "source": [
    "### Fuel & Power"
   ]
  },
  {
   "cell_type": "code",
   "execution_count": 116,
   "id": "268b4437-7f5f-471b-8820-6d86944a1fa8",
   "metadata": {},
   "outputs": [
    {
     "data": {
      "text/plain": [
       "<AxesSubplot:xlabel='Power', ylabel='Fuel_Urban'>"
      ]
     },
     "execution_count": 116,
     "metadata": {},
     "output_type": "execute_result"
    },
    {
     "data": {
      "image/png": "[encoded data removed]",
      "text/plain": [
       "<Figure size 640x480 with 1 Axes>"
      ]
     },
     "metadata": {},
     "output_type": "display_data"
    }
   ],
   "source": [
    "raw_sale.plot.scatter(x='Power',y='Fuel_Urban', loglog=True) # how does fuel change with power, probably create a relashionship to impute fuel_urban"
   ]
  },
  {
   "cell_type": "markdown",
   "id": "b24bd4c5-7bbc-4e19-a9df-8f1cabc221e8",
   "metadata": {
    "tags": []
   },
   "source": [
    "### Vehicle Code"
   ]
  },
  {
   "cell_type": "code",
   "execution_count": 161,
   "id": "0b71a6bc-282e-4754-8479-d6d63f1c4db5",
   "metadata": {
    "tags": []
   },
   "outputs": [
    {
     "name": "stdout",
     "output_type": "stream",
     "text": [
      "49.5273% suspicious Vehicle_Code \n"
     ]
    },
    {
     "data": {
      "text/html": [
       "<div>\n",
       "<style scoped>\n",
       "    .dataframe tbody tr th:only-of-type {\n",
       "        vertical-align: middle;\n",
       "    }\n",
       "\n",
       "    .dataframe tbody tr th {\n",
       "        vertical-align: top;\n",
       "    }\n",
       "\n",
       "    .dataframe thead th {\n",
       "        text-align: right;\n",
       "    }\n",
       "</style>\n",
       "<table border=\"1\" class=\"dataframe\">\n",
       "  <thead>\n",
       "    <tr style=\"text-align: right;\">\n",
       "      <th></th>\n",
       "      <th>Advertised_Date</th>\n",
       "      <th>Sold_Date</th>\n",
       "      <th>Sale_Price</th>\n",
       "      <th>Odometer</th>\n",
       "      <th>Power</th>\n",
       "      <th>Fuel_Urban</th>\n",
       "      <th>Make_Code</th>\n",
       "      <th>Family_Code</th>\n",
       "      <th>Year_Group</th>\n",
       "      <th>Region_Description</th>\n",
       "      <th>Vehicle_Code</th>\n",
       "    </tr>\n",
       "  </thead>\n",
       "  <tbody>\n",
       "    <tr>\n",
       "      <th>2</th>\n",
       "      <td>2019-08-21 00:00:00</td>\n",
       "      <td>2019-10-15</td>\n",
       "      <td>39970.00</td>\n",
       "      <td>38674.0</td>\n",
       "      <td>184.0</td>\n",
       "      <td>9.3</td>\n",
       "      <td>JEEP</td>\n",
       "      <td>GRAND</td>\n",
       "      <td>2017</td>\n",
       "      <td>WA</td>\n",
       "      <td>-5679626332524971677</td>\n",
       "    </tr>\n",
       "    <tr>\n",
       "      <th>6</th>\n",
       "      <td>2019-08-03 00:00:00</td>\n",
       "      <td>2019-09-06</td>\n",
       "      <td>31816.36</td>\n",
       "      <td>85185.0</td>\n",
       "      <td>143.0</td>\n",
       "      <td>11.2</td>\n",
       "      <td>FORD</td>\n",
       "      <td>EVEREST</td>\n",
       "      <td>2015</td>\n",
       "      <td>WA</td>\n",
       "      <td>-7358387605770757153</td>\n",
       "    </tr>\n",
       "    <tr>\n",
       "      <th>7</th>\n",
       "      <td>2020-01-15 00:00:00</td>\n",
       "      <td>2020-02-21</td>\n",
       "      <td>44545.45</td>\n",
       "      <td>48510.0</td>\n",
       "      <td>213.0</td>\n",
       "      <td>13.5</td>\n",
       "      <td>JEEP</td>\n",
       "      <td>GRAND</td>\n",
       "      <td>2018</td>\n",
       "      <td>WA</td>\n",
       "      <td>-8921023106021724713</td>\n",
       "    </tr>\n",
       "    <tr>\n",
       "      <th>8</th>\n",
       "      <td>2019-05-24 00:00:00</td>\n",
       "      <td>2019-06-25</td>\n",
       "      <td>47788.57</td>\n",
       "      <td>2912.0</td>\n",
       "      <td>184.0</td>\n",
       "      <td>9.3</td>\n",
       "      <td>JEEP</td>\n",
       "      <td>GRAND</td>\n",
       "      <td>2018</td>\n",
       "      <td>WA</td>\n",
       "      <td>-8802551192911824092</td>\n",
       "    </tr>\n",
       "    <tr>\n",
       "      <th>9</th>\n",
       "      <td>2019-09-19 00:00:00</td>\n",
       "      <td>2019-10-16</td>\n",
       "      <td>36363.64</td>\n",
       "      <td>2008.0</td>\n",
       "      <td>209.0</td>\n",
       "      <td>16.6</td>\n",
       "      <td>JEEP</td>\n",
       "      <td>WRANGLE</td>\n",
       "      <td>2018</td>\n",
       "      <td>WA</td>\n",
       "      <td>-8488957666606336651</td>\n",
       "    </tr>\n",
       "    <tr>\n",
       "      <th>...</th>\n",
       "      <td>...</td>\n",
       "      <td>...</td>\n",
       "      <td>...</td>\n",
       "      <td>...</td>\n",
       "      <td>...</td>\n",
       "      <td>...</td>\n",
       "      <td>...</td>\n",
       "      <td>...</td>\n",
       "      <td>...</td>\n",
       "      <td>...</td>\n",
       "      <td>...</td>\n",
       "    </tr>\n",
       "    <tr>\n",
       "      <th>122578</th>\n",
       "      <td>2020-01-14 00:00:00</td>\n",
       "      <td>2020-04-06</td>\n",
       "      <td>18172.73</td>\n",
       "      <td>110208.0</td>\n",
       "      <td>150.0</td>\n",
       "      <td>6.3</td>\n",
       "      <td>MERC</td>\n",
       "      <td>CCLASS</td>\n",
       "      <td>2013</td>\n",
       "      <td>QLD</td>\n",
       "      <td>-5817223168853748200</td>\n",
       "    </tr>\n",
       "    <tr>\n",
       "      <th>122581</th>\n",
       "      <td>2020-01-23 00:00:00</td>\n",
       "      <td>2020-02-07</td>\n",
       "      <td>14436.36</td>\n",
       "      <td>58151.0</td>\n",
       "      <td>118.0</td>\n",
       "      <td>8.7</td>\n",
       "      <td>VOLK</td>\n",
       "      <td>TIGUAN</td>\n",
       "      <td>2012</td>\n",
       "      <td>QLD</td>\n",
       "      <td>-6978909278333027416</td>\n",
       "    </tr>\n",
       "    <tr>\n",
       "      <th>122582</th>\n",
       "      <td>2020-03-18 00:00:00</td>\n",
       "      <td>2020-03-31</td>\n",
       "      <td>13627.27</td>\n",
       "      <td>31023.0</td>\n",
       "      <td>103.0</td>\n",
       "      <td>8.5</td>\n",
       "      <td>TOYO</td>\n",
       "      <td>COROLLA</td>\n",
       "      <td>2015</td>\n",
       "      <td>QLD</td>\n",
       "      <td>-8023875955904102271</td>\n",
       "    </tr>\n",
       "    <tr>\n",
       "      <th>122584</th>\n",
       "      <td>2020-02-15 00:00:00</td>\n",
       "      <td>2020-04-16</td>\n",
       "      <td>9081.82</td>\n",
       "      <td>184801.0</td>\n",
       "      <td>123.0</td>\n",
       "      <td>11.5</td>\n",
       "      <td>SUBA</td>\n",
       "      <td>OUTBACK</td>\n",
       "      <td>2012</td>\n",
       "      <td>QLD</td>\n",
       "      <td>-102687443349852300</td>\n",
       "    </tr>\n",
       "    <tr>\n",
       "      <th>122587</th>\n",
       "      <td>2020-01-10 00:00:00</td>\n",
       "      <td>2020-02-01</td>\n",
       "      <td>14536.36</td>\n",
       "      <td>94291.0</td>\n",
       "      <td>134.0</td>\n",
       "      <td>8.3</td>\n",
       "      <td>FORD</td>\n",
       "      <td>FIESTA</td>\n",
       "      <td>2014</td>\n",
       "      <td>QLD</td>\n",
       "      <td>-331843588787438863</td>\n",
       "    </tr>\n",
       "  </tbody>\n",
       "</table>\n",
       "<p>60718 rows × 11 columns</p>\n",
       "</div>"
      ],
      "text/plain": [
       "            Advertised_Date   Sold_Date  Sale_Price  Odometer  Power  \\\n",
       "2       2019-08-21 00:00:00  2019-10-15    39970.00   38674.0  184.0   \n",
       "6       2019-08-03 00:00:00  2019-09-06    31816.36   85185.0  143.0   \n",
       "7       2020-01-15 00:00:00  2020-02-21    44545.45   48510.0  213.0   \n",
       "8       2019-05-24 00:00:00  2019-06-25    47788.57    2912.0  184.0   \n",
       "9       2019-09-19 00:00:00  2019-10-16    36363.64    2008.0  209.0   \n",
       "...                     ...         ...         ...       ...    ...   \n",
       "122578  2020-01-14 00:00:00  2020-04-06    18172.73  110208.0  150.0   \n",
       "122581  2020-01-23 00:00:00  2020-02-07    14436.36   58151.0  118.0   \n",
       "122582  2020-03-18 00:00:00  2020-03-31    13627.27   31023.0  103.0   \n",
       "122584  2020-02-15 00:00:00  2020-04-16     9081.82  184801.0  123.0   \n",
       "122587  2020-01-10 00:00:00  2020-02-01    14536.36   94291.0  134.0   \n",
       "\n",
       "        Fuel_Urban Make_Code Family_Code  Year_Group Region_Description  \\\n",
       "2              9.3      JEEP       GRAND        2017                 WA   \n",
       "6             11.2      FORD     EVEREST        2015                 WA   \n",
       "7             13.5      JEEP       GRAND        2018                 WA   \n",
       "8              9.3      JEEP       GRAND        2018                 WA   \n",
       "9             16.6      JEEP     WRANGLE        2018                 WA   \n",
       "...            ...       ...         ...         ...                ...   \n",
       "122578         6.3      MERC      CCLASS        2013                QLD   \n",
       "122581         8.7      VOLK      TIGUAN        2012                QLD   \n",
       "122582         8.5      TOYO     COROLLA        2015                QLD   \n",
       "122584        11.5      SUBA     OUTBACK        2012                QLD   \n",
       "122587         8.3      FORD      FIESTA        2014                QLD   \n",
       "\n",
       "               Vehicle_Code  \n",
       "2      -5679626332524971677  \n",
       "6      -7358387605770757153  \n",
       "7      -8921023106021724713  \n",
       "8      -8802551192911824092  \n",
       "9      -8488957666606336651  \n",
       "...                     ...  \n",
       "122578 -5817223168853748200  \n",
       "122581 -6978909278333027416  \n",
       "122582 -8023875955904102271  \n",
       "122584  -102687443349852300  \n",
       "122587  -331843588787438863  \n",
       "\n",
       "[60718 rows x 11 columns]"
      ]
     },
     "execution_count": 161,
     "metadata": {},
     "output_type": "execute_result"
    }
   ],
   "source": [
    "print(f'{60718/raw_sale.shape[0]*100:2.4f}% suspicious Vehicle_Code ')\n",
    "raw_sale.query('Vehicle_Code<=0') # unusual vehicle codes, VIN # might have to be cleaned"
   ]
  },
  {
   "cell_type": "markdown",
   "id": "a3dbb81a-4c11-4dcb-b289-ef9c8b8dc18b",
   "metadata": {
    "tags": []
   },
   "source": [
    "### Advertised_Date"
   ]
  },
  {
   "cell_type": "code",
   "execution_count": 197,
   "id": "b9603962-e0a0-41d7-bca8-aa6d74b60410",
   "metadata": {},
   "outputs": [
    {
     "name": "stdout",
     "output_type": "stream",
     "text": [
      "4.3411% missing adv_date \n"
     ]
    },
    {
     "data": {
      "text/html": [
       "<div>\n",
       "<style scoped>\n",
       "    .dataframe tbody tr th:only-of-type {\n",
       "        vertical-align: middle;\n",
       "    }\n",
       "\n",
       "    .dataframe tbody tr th {\n",
       "        vertical-align: top;\n",
       "    }\n",
       "\n",
       "    .dataframe thead th {\n",
       "        text-align: right;\n",
       "    }\n",
       "</style>\n",
       "<table border=\"1\" class=\"dataframe\">\n",
       "  <thead>\n",
       "    <tr style=\"text-align: right;\">\n",
       "      <th></th>\n",
       "      <th>Sale_Price</th>\n",
       "      <th>Odometer</th>\n",
       "      <th>Power</th>\n",
       "      <th>Fuel_Urban</th>\n",
       "      <th>Year_Group</th>\n",
       "      <th>Vehicle_Code</th>\n",
       "    </tr>\n",
       "  </thead>\n",
       "  <tbody>\n",
       "    <tr>\n",
       "      <th>count</th>\n",
       "      <td>5322.0</td>\n",
       "      <td>5322.0</td>\n",
       "      <td>5320.0</td>\n",
       "      <td>4552.0</td>\n",
       "      <td>5322.0</td>\n",
       "      <td>5.322000e+03</td>\n",
       "    </tr>\n",
       "    <tr>\n",
       "      <th>mean</th>\n",
       "      <td>20812.0</td>\n",
       "      <td>82309.0</td>\n",
       "      <td>133.0</td>\n",
       "      <td>10.0</td>\n",
       "      <td>2014.0</td>\n",
       "      <td>1.864772e+16</td>\n",
       "    </tr>\n",
       "    <tr>\n",
       "      <th>std</th>\n",
       "      <td>20450.0</td>\n",
       "      <td>64561.0</td>\n",
       "      <td>47.0</td>\n",
       "      <td>3.0</td>\n",
       "      <td>4.0</td>\n",
       "      <td>5.251077e+18</td>\n",
       "    </tr>\n",
       "    <tr>\n",
       "      <th>min</th>\n",
       "      <td>91.0</td>\n",
       "      <td>0.0</td>\n",
       "      <td>47.0</td>\n",
       "      <td>4.0</td>\n",
       "      <td>1996.0</td>\n",
       "      <td>-9.217972e+18</td>\n",
       "    </tr>\n",
       "    <tr>\n",
       "      <th>25%</th>\n",
       "      <td>10276.0</td>\n",
       "      <td>34305.0</td>\n",
       "      <td>108.0</td>\n",
       "      <td>9.0</td>\n",
       "      <td>2011.0</td>\n",
       "      <td>-4.487414e+18</td>\n",
       "    </tr>\n",
       "    <tr>\n",
       "      <th>50%</th>\n",
       "      <td>17322.0</td>\n",
       "      <td>71530.0</td>\n",
       "      <td>125.0</td>\n",
       "      <td>10.0</td>\n",
       "      <td>2015.0</td>\n",
       "      <td>1.230012e+17</td>\n",
       "    </tr>\n",
       "    <tr>\n",
       "      <th>75%</th>\n",
       "      <td>26343.0</td>\n",
       "      <td>116558.0</td>\n",
       "      <td>147.0</td>\n",
       "      <td>11.0</td>\n",
       "      <td>2017.0</td>\n",
       "      <td>4.522102e+18</td>\n",
       "    </tr>\n",
       "    <tr>\n",
       "      <th>max</th>\n",
       "      <td>590818.0</td>\n",
       "      <td>1114599.0</td>\n",
       "      <td>545.0</td>\n",
       "      <td>24.0</td>\n",
       "      <td>2021.0</td>\n",
       "      <td>9.217722e+18</td>\n",
       "    </tr>\n",
       "  </tbody>\n",
       "</table>\n",
       "</div>"
      ],
      "text/plain": [
       "       Sale_Price   Odometer   Power  Fuel_Urban  Year_Group  Vehicle_Code\n",
       "count      5322.0     5322.0  5320.0      4552.0      5322.0  5.322000e+03\n",
       "mean      20812.0    82309.0   133.0        10.0      2014.0  1.864772e+16\n",
       "std       20450.0    64561.0    47.0         3.0         4.0  5.251077e+18\n",
       "min          91.0        0.0    47.0         4.0      1996.0 -9.217972e+18\n",
       "25%       10276.0    34305.0   108.0         9.0      2011.0 -4.487414e+18\n",
       "50%       17322.0    71530.0   125.0        10.0      2015.0  1.230012e+17\n",
       "75%       26343.0   116558.0   147.0        11.0      2017.0  4.522102e+18\n",
       "max      590818.0  1114599.0   545.0        24.0      2021.0  9.217722e+18"
      ]
     },
     "execution_count": 197,
     "metadata": {},
     "output_type": "execute_result"
    }
   ],
   "source": [
    "print(f'{5322/raw_sale.shape[0]*100:2.4f}% missing adv_date ')\n",
    "bad_adv = raw_sale.loc[raw_sale.Advertised_Date.str[:4].isin(['1967','0001']),:] # columns with adv date missing/suspicious\n",
    "bad_adv.describe().round()"
   ]
  },
  {
   "cell_type": "code",
   "execution_count": 198,
   "id": "31b91d33-3a49-428f-b4d2-2185f5e3b258",
   "metadata": {},
   "outputs": [
    {
     "data": {
      "text/html": [
       "<div>\n",
       "<style scoped>\n",
       "    .dataframe tbody tr th:only-of-type {\n",
       "        vertical-align: middle;\n",
       "    }\n",
       "\n",
       "    .dataframe tbody tr th {\n",
       "        vertical-align: top;\n",
       "    }\n",
       "\n",
       "    .dataframe thead th {\n",
       "        text-align: right;\n",
       "    }\n",
       "</style>\n",
       "<table border=\"1\" class=\"dataframe\">\n",
       "  <thead>\n",
       "    <tr style=\"text-align: right;\">\n",
       "      <th></th>\n",
       "      <th>Sale_Price</th>\n",
       "      <th>Odometer</th>\n",
       "      <th>Power</th>\n",
       "      <th>Fuel_Urban</th>\n",
       "      <th>Year_Group</th>\n",
       "      <th>Vehicle_Code</th>\n",
       "    </tr>\n",
       "  </thead>\n",
       "  <tbody>\n",
       "    <tr>\n",
       "      <th>count</th>\n",
       "      <td>4.3</td>\n",
       "      <td>4.3</td>\n",
       "      <td>4.3</td>\n",
       "      <td>4.2</td>\n",
       "      <td>4.3</td>\n",
       "      <td>4.3</td>\n",
       "    </tr>\n",
       "    <tr>\n",
       "      <th>mean</th>\n",
       "      <td>84.6</td>\n",
       "      <td>101.4</td>\n",
       "      <td>95.4</td>\n",
       "      <td>99.0</td>\n",
       "      <td>100.0</td>\n",
       "      <td>33.7</td>\n",
       "    </tr>\n",
       "    <tr>\n",
       "      <th>std</th>\n",
       "      <td>111.4</td>\n",
       "      <td>109.7</td>\n",
       "      <td>92.3</td>\n",
       "      <td>92.4</td>\n",
       "      <td>120.8</td>\n",
       "      <td>98.9</td>\n",
       "    </tr>\n",
       "    <tr>\n",
       "      <th>min</th>\n",
       "      <td>100.0</td>\n",
       "      <td>0.0</td>\n",
       "      <td>167.8</td>\n",
       "      <td>428.6</td>\n",
       "      <td>100.0</td>\n",
       "      <td>100.0</td>\n",
       "    </tr>\n",
       "    <tr>\n",
       "      <th>25%</th>\n",
       "      <td>76.1</td>\n",
       "      <td>89.6</td>\n",
       "      <td>98.2</td>\n",
       "      <td>101.1</td>\n",
       "      <td>99.9</td>\n",
       "      <td>99.0</td>\n",
       "    </tr>\n",
       "    <tr>\n",
       "      <th>50%</th>\n",
       "      <td>84.2</td>\n",
       "      <td>99.7</td>\n",
       "      <td>96.9</td>\n",
       "      <td>99.9</td>\n",
       "      <td>100.0</td>\n",
       "      <td>116.0</td>\n",
       "    </tr>\n",
       "    <tr>\n",
       "      <th>75%</th>\n",
       "      <td>85.3</td>\n",
       "      <td>103.6</td>\n",
       "      <td>100.0</td>\n",
       "      <td>99.0</td>\n",
       "      <td>100.0</td>\n",
       "      <td>97.5</td>\n",
       "    </tr>\n",
       "    <tr>\n",
       "      <th>max</th>\n",
       "      <td>85.1</td>\n",
       "      <td>27.9</td>\n",
       "      <td>100.0</td>\n",
       "      <td>91.3</td>\n",
       "      <td>100.0</td>\n",
       "      <td>100.0</td>\n",
       "    </tr>\n",
       "  </tbody>\n",
       "</table>\n",
       "</div>"
      ],
      "text/plain": [
       "       Sale_Price  Odometer  Power  Fuel_Urban  Year_Group  Vehicle_Code\n",
       "count         4.3       4.3    4.3         4.2         4.3           4.3\n",
       "mean         84.6     101.4   95.4        99.0       100.0          33.7\n",
       "std         111.4     109.7   92.3        92.4       120.8          98.9\n",
       "min         100.0       0.0  167.8       428.6       100.0         100.0\n",
       "25%          76.1      89.6   98.2       101.1        99.9          99.0\n",
       "50%          84.2      99.7   96.9        99.9       100.0         116.0\n",
       "75%          85.3     103.6  100.0        99.0       100.0          97.5\n",
       "max          85.1      27.9  100.0        91.3       100.0         100.0"
      ]
     },
     "execution_count": 198,
     "metadata": {},
     "output_type": "execute_result"
    }
   ],
   "source": [
    "((bad_adv.describe())*100/(raw_sale.describe()+0.01)).round(1) # how is this slice of data different from population ?"
   ]
  },
  {
   "cell_type": "code",
   "execution_count": 165,
   "id": "d906a27c-38ee-48ad-898f-4c50f89e16b3",
   "metadata": {},
   "outputs": [
    {
     "name": "stdout",
     "output_type": "stream",
     "text": [
      "# of unique adv years: 11\n"
     ]
    },
    {
     "data": {
      "text/plain": [
       "array(['2020', '2019', '2021', '2022', '0001', '2018', '2017', '2015',\n",
       "       '1967', '2014', '2016'], dtype=object)"
      ]
     },
     "execution_count": 165,
     "metadata": {},
     "output_type": "execute_result"
    }
   ],
   "source": [
    "print(f'# of unique adv years: {raw_sale.Advertised_Date.str[:4].nunique() }')\n",
    "raw_sale.Advertised_Date.str[:4].unique() # what are the adv years?"
   ]
  },
  {
   "cell_type": "code",
   "execution_count": 175,
   "id": "f7b97f5e-0909-4df8-9eaf-42c355739867",
   "metadata": {},
   "outputs": [
    {
     "data": {
      "text/plain": [
       "<AxesSubplot:>"
      ]
     },
     "execution_count": 175,
     "metadata": {},
     "output_type": "execute_result"
    },
    {
     "data": {
      "image/png": "[encoded data removed]",
      "text/plain": [
       "<Figure size 500x300 with 1 Axes>"
      ]
     },
     "metadata": {},
     "output_type": "display_data"
    }
   ],
   "source": [
    "raw_sale.Advertised_Date.str[:4].value_counts().sort_index().plot.bar(figsize=(5,3)) # have to remove dates before 2014"
   ]
  },
  {
   "cell_type": "code",
   "execution_count": 209,
   "id": "0fdbdf59-d76e-4826-8c9f-21f03c1c18af",
   "metadata": {},
   "outputs": [
    {
     "data": {
      "text/plain": [
       "count    117273.000000\n",
       "mean          5.507244\n",
       "std           3.563808\n",
       "min           0.000000\n",
       "25%           3.000000\n",
       "50%           5.000000\n",
       "75%           7.000000\n",
       "max          26.000000\n",
       "dtype: float64"
      ]
     },
     "execution_count": 209,
     "metadata": {},
     "output_type": "execute_result"
    }
   ],
   "source": [
    "# is adv_year/sold_year greater than or equal to Year_Group?\n",
    "_fltr = raw_sale.Advertised_Date.str[:4].astype(int)>=2014\n",
    "raw_sale.loc[_fltr,:].apply(lambda x: int(x.Advertised_Date[:4])-x.Year_Group, axis=1).describe() \n",
    "# on avg, adv_year is 5yrs after year_group\n",
    "# year_group is the year of manufacture"
   ]
  },
  {
   "cell_type": "code",
   "execution_count": 211,
   "id": "c512b7dc-dff9-4cdf-a5e8-eff825ba968c",
   "metadata": {},
   "outputs": [
    {
     "data": {
      "text/plain": [
       "count    117273.000000\n",
       "mean          5.604513\n",
       "std           3.554248\n",
       "min           0.000000\n",
       "25%           3.000000\n",
       "50%           5.000000\n",
       "75%           8.000000\n",
       "max          26.000000\n",
       "dtype: float64"
      ]
     },
     "execution_count": 211,
     "metadata": {},
     "output_type": "execute_result"
    }
   ],
   "source": [
    "raw_sale.loc[_fltr,:].apply(lambda x: int(x.Sold_Date[:4])-x.Year_Group, axis=1).describe() # on avg, sold_year is 5yrs after year_group"
   ]
  },
  {
   "cell_type": "code",
   "execution_count": 215,
   "id": "aaf772d0-d4ff-4e04-8abd-2c95801a9192",
   "metadata": {},
   "outputs": [],
   "source": [
    "# what is the avg time(years) to sell after advertising?\n",
    "fltr2 = raw_sale.loc[_fltr,:].apply(lambda x: int(x.Sold_Date[:4])<int(x.Advertised_Date[:4]), axis=1)"
   ]
  },
  {
   "cell_type": "code",
   "execution_count": 232,
   "id": "9952062d-a2a1-456b-a9b8-58f0545530b0",
   "metadata": {},
   "outputs": [
    {
     "data": {
      "text/html": [
       "<div>\n",
       "<style scoped>\n",
       "    .dataframe tbody tr th:only-of-type {\n",
       "        vertical-align: middle;\n",
       "    }\n",
       "\n",
       "    .dataframe tbody tr th {\n",
       "        vertical-align: top;\n",
       "    }\n",
       "\n",
       "    .dataframe thead th {\n",
       "        text-align: right;\n",
       "    }\n",
       "</style>\n",
       "<table border=\"1\" class=\"dataframe\">\n",
       "  <thead>\n",
       "    <tr style=\"text-align: right;\">\n",
       "      <th></th>\n",
       "      <th>Advertised_Date</th>\n",
       "      <th>Sold_Date</th>\n",
       "      <th>Sale_Price</th>\n",
       "      <th>Odometer</th>\n",
       "      <th>Power</th>\n",
       "      <th>Fuel_Urban</th>\n",
       "      <th>Make_Code</th>\n",
       "      <th>Family_Code</th>\n",
       "      <th>Year_Group</th>\n",
       "      <th>Region_Description</th>\n",
       "      <th>Vehicle_Code</th>\n",
       "    </tr>\n",
       "  </thead>\n",
       "  <tbody>\n",
       "    <tr>\n",
       "      <th>46318</th>\n",
       "      <td>2019-02-11 00:00:00</td>\n",
       "      <td>2018-02-26</td>\n",
       "      <td>15000.00</td>\n",
       "      <td>27927.0</td>\n",
       "      <td>115.0</td>\n",
       "      <td>11.1</td>\n",
       "      <td>JEEP</td>\n",
       "      <td>COMPASS</td>\n",
       "      <td>2014</td>\n",
       "      <td>NSW</td>\n",
       "      <td>7306947965930081220</td>\n",
       "    </tr>\n",
       "    <tr>\n",
       "      <th>48353</th>\n",
       "      <td>2019-01-31 00:00:00</td>\n",
       "      <td>2018-04-10</td>\n",
       "      <td>28172.73</td>\n",
       "      <td>79268.0</td>\n",
       "      <td>201.0</td>\n",
       "      <td>14.4</td>\n",
       "      <td>TOYO</td>\n",
       "      <td>KLUGER</td>\n",
       "      <td>2014</td>\n",
       "      <td>NSW</td>\n",
       "      <td>-3923119754653825188</td>\n",
       "    </tr>\n",
       "    <tr>\n",
       "      <th>49056</th>\n",
       "      <td>2020-01-28 00:00:00</td>\n",
       "      <td>2019-02-08</td>\n",
       "      <td>15063.45</td>\n",
       "      <td>48353.0</td>\n",
       "      <td>120.0</td>\n",
       "      <td>10.1</td>\n",
       "      <td>HYUN</td>\n",
       "      <td>I30</td>\n",
       "      <td>2018</td>\n",
       "      <td>QLD</td>\n",
       "      <td>-2174965228717111753</td>\n",
       "    </tr>\n",
       "    <tr>\n",
       "      <th>49972</th>\n",
       "      <td>2019-01-25 00:00:00</td>\n",
       "      <td>2018-02-13</td>\n",
       "      <td>13679.18</td>\n",
       "      <td>21638.0</td>\n",
       "      <td>103.0</td>\n",
       "      <td>9.2</td>\n",
       "      <td>HYUN</td>\n",
       "      <td>ACCENT</td>\n",
       "      <td>2017</td>\n",
       "      <td>NSW</td>\n",
       "      <td>967886652041242463</td>\n",
       "    </tr>\n",
       "    <tr>\n",
       "      <th>50242</th>\n",
       "      <td>2019-03-30 00:00:00</td>\n",
       "      <td>2018-04-09</td>\n",
       "      <td>9545.45</td>\n",
       "      <td>152776.0</td>\n",
       "      <td>110.0</td>\n",
       "      <td>8.9</td>\n",
       "      <td>SUBA</td>\n",
       "      <td>IMPREZA</td>\n",
       "      <td>2013</td>\n",
       "      <td>NSW</td>\n",
       "      <td>8742765988022406397</td>\n",
       "    </tr>\n",
       "    <tr>\n",
       "      <th>60319</th>\n",
       "      <td>2019-06-24 00:00:00</td>\n",
       "      <td>2018-07-11</td>\n",
       "      <td>13527.27</td>\n",
       "      <td>30623.0</td>\n",
       "      <td>103.0</td>\n",
       "      <td>10.4</td>\n",
       "      <td>HOLD</td>\n",
       "      <td>TRAX</td>\n",
       "      <td>2015</td>\n",
       "      <td>NSW</td>\n",
       "      <td>1277478438555471479</td>\n",
       "    </tr>\n",
       "    <tr>\n",
       "      <th>74578</th>\n",
       "      <td>2021-02-02 00:00:00</td>\n",
       "      <td>2020-02-20</td>\n",
       "      <td>6309.83</td>\n",
       "      <td>194278.0</td>\n",
       "      <td>103.0</td>\n",
       "      <td>NaN</td>\n",
       "      <td>VOLK</td>\n",
       "      <td>GOLF</td>\n",
       "      <td>2007</td>\n",
       "      <td>QLD</td>\n",
       "      <td>-7818596660929839796</td>\n",
       "    </tr>\n",
       "    <tr>\n",
       "      <th>75132</th>\n",
       "      <td>2019-07-03 00:00:00</td>\n",
       "      <td>2018-10-18</td>\n",
       "      <td>23803.64</td>\n",
       "      <td>119787.0</td>\n",
       "      <td>317.0</td>\n",
       "      <td>22.4</td>\n",
       "      <td>HSV</td>\n",
       "      <td>MALOO</td>\n",
       "      <td>2010</td>\n",
       "      <td>WA</td>\n",
       "      <td>7249153235244440478</td>\n",
       "    </tr>\n",
       "    <tr>\n",
       "      <th>86958</th>\n",
       "      <td>2019-02-12 00:00:00</td>\n",
       "      <td>2018-03-07</td>\n",
       "      <td>11363.64</td>\n",
       "      <td>172421.0</td>\n",
       "      <td>110.0</td>\n",
       "      <td>8.9</td>\n",
       "      <td>SUBA</td>\n",
       "      <td>XV</td>\n",
       "      <td>2015</td>\n",
       "      <td>NSW</td>\n",
       "      <td>-5281860663756885406</td>\n",
       "    </tr>\n",
       "    <tr>\n",
       "      <th>96687</th>\n",
       "      <td>2019-09-16 00:00:00</td>\n",
       "      <td>2018-11-12</td>\n",
       "      <td>32097.18</td>\n",
       "      <td>34130.0</td>\n",
       "      <td>100.0</td>\n",
       "      <td>11.1</td>\n",
       "      <td>TOYO</td>\n",
       "      <td>HIACE</td>\n",
       "      <td>2016</td>\n",
       "      <td>NSW</td>\n",
       "      <td>3465306434023944833</td>\n",
       "    </tr>\n",
       "    <tr>\n",
       "      <th>102620</th>\n",
       "      <td>2019-02-08 00:00:00</td>\n",
       "      <td>2018-03-13</td>\n",
       "      <td>10909.09</td>\n",
       "      <td>233931.0</td>\n",
       "      <td>184.0</td>\n",
       "      <td>NaN</td>\n",
       "      <td>MITS</td>\n",
       "      <td>PAJERO</td>\n",
       "      <td>2007</td>\n",
       "      <td>NSW</td>\n",
       "      <td>-4156353276537763723</td>\n",
       "    </tr>\n",
       "    <tr>\n",
       "      <th>122575</th>\n",
       "      <td>2020-01-25 00:00:00</td>\n",
       "      <td>2019-03-06</td>\n",
       "      <td>8981.82</td>\n",
       "      <td>143665.0</td>\n",
       "      <td>125.0</td>\n",
       "      <td>NaN</td>\n",
       "      <td>MAZD</td>\n",
       "      <td>6</td>\n",
       "      <td>2008</td>\n",
       "      <td>QLD</td>\n",
       "      <td>-8654576934208125420</td>\n",
       "    </tr>\n",
       "  </tbody>\n",
       "</table>\n",
       "</div>"
      ],
      "text/plain": [
       "            Advertised_Date   Sold_Date  Sale_Price  Odometer  Power  \\\n",
       "46318   2019-02-11 00:00:00  2018-02-26    15000.00   27927.0  115.0   \n",
       "48353   2019-01-31 00:00:00  2018-04-10    28172.73   79268.0  201.0   \n",
       "49056   2020-01-28 00:00:00  2019-02-08    15063.45   48353.0  120.0   \n",
       "49972   2019-01-25 00:00:00  2018-02-13    13679.18   21638.0  103.0   \n",
       "50242   2019-03-30 00:00:00  2018-04-09     9545.45  152776.0  110.0   \n",
       "60319   2019-06-24 00:00:00  2018-07-11    13527.27   30623.0  103.0   \n",
       "74578   2021-02-02 00:00:00  2020-02-20     6309.83  194278.0  103.0   \n",
       "75132   2019-07-03 00:00:00  2018-10-18    23803.64  119787.0  317.0   \n",
       "86958   2019-02-12 00:00:00  2018-03-07    11363.64  172421.0  110.0   \n",
       "96687   2019-09-16 00:00:00  2018-11-12    32097.18   34130.0  100.0   \n",
       "102620  2019-02-08 00:00:00  2018-03-13    10909.09  233931.0  184.0   \n",
       "122575  2020-01-25 00:00:00  2019-03-06     8981.82  143665.0  125.0   \n",
       "\n",
       "        Fuel_Urban Make_Code Family_Code  Year_Group Region_Description  \\\n",
       "46318         11.1      JEEP     COMPASS        2014                NSW   \n",
       "48353         14.4      TOYO      KLUGER        2014                NSW   \n",
       "49056         10.1      HYUN         I30        2018                QLD   \n",
       "49972          9.2      HYUN      ACCENT        2017                NSW   \n",
       "50242          8.9      SUBA     IMPREZA        2013                NSW   \n",
       "60319         10.4      HOLD        TRAX        2015                NSW   \n",
       "74578          NaN      VOLK        GOLF        2007                QLD   \n",
       "75132         22.4       HSV       MALOO        2010                 WA   \n",
       "86958          8.9      SUBA          XV        2015                NSW   \n",
       "96687         11.1      TOYO       HIACE        2016                NSW   \n",
       "102620         NaN      MITS      PAJERO        2007                NSW   \n",
       "122575         NaN      MAZD           6        2008                QLD   \n",
       "\n",
       "               Vehicle_Code  \n",
       "46318   7306947965930081220  \n",
       "48353  -3923119754653825188  \n",
       "49056  -2174965228717111753  \n",
       "49972    967886652041242463  \n",
       "50242   8742765988022406397  \n",
       "60319   1277478438555471479  \n",
       "74578  -7818596660929839796  \n",
       "75132   7249153235244440478  \n",
       "86958  -5281860663756885406  \n",
       "96687   3465306434023944833  \n",
       "102620 -4156353276537763723  \n",
       "122575 -8654576934208125420  "
      ]
     },
     "execution_count": 232,
     "metadata": {},
     "output_type": "execute_result"
    }
   ],
   "source": [
    "raw_sale.loc[_fltr&fltr2,:] # anomalies with sold_date>adv_date should be removed."
   ]
  },
  {
   "cell_type": "code",
   "execution_count": 234,
   "id": "79724066-0cfe-412f-86ac-f2bfd08fa78f",
   "metadata": {},
   "outputs": [],
   "source": [
    "# create a single filter with both conditions to filter data\n",
    "_fltr3 = _fltr&~fltr2"
   ]
  },
  {
   "cell_type": "code",
   "execution_count": 238,
   "id": "0b276dd4-b940-41c5-b53a-7a25707260b0",
   "metadata": {},
   "outputs": [
    {
     "data": {
      "text/plain": [
       "0.9564908846200906"
      ]
     },
     "execution_count": 238,
     "metadata": {},
     "output_type": "execute_result"
    }
   ],
   "source": [
    "raw_sale.loc[_fltr3].shape[0]/raw_sale.shape[0]"
   ]
  },
  {
   "cell_type": "markdown",
   "id": "dda4697c-d83d-4936-9f9f-59db39173a97",
   "metadata": {},
   "source": [
    "### Region_Description"
   ]
  },
  {
   "cell_type": "code",
   "execution_count": 254,
   "id": "0aee9d5f-005a-48e7-9122-2bce53e59f4a",
   "metadata": {},
   "outputs": [
    {
     "data": {
      "text/plain": [
       "WA     34146\n",
       "NSW    29498\n",
       "QLD    17952\n",
       "SA     16632\n",
       "VIC    11406\n",
       "TAS     7095\n",
       "NZ       532\n",
       "Name: Region_Description, dtype: int64"
      ]
     },
     "execution_count": 254,
     "metadata": {},
     "output_type": "execute_result"
    }
   ],
   "source": [
    "raw_sale.loc[_fltr3,:].Region_Description.value_counts()#.plot.bar(figsize=(4,2)) # looks like most sales are in WA"
   ]
  },
  {
   "cell_type": "code",
   "execution_count": 247,
   "id": "c7936642-cf21-4429-8276-7f6009bfb44f",
   "metadata": {},
   "outputs": [
    {
     "data": {
      "text/html": [
       "<div>\n",
       "<style scoped>\n",
       "    .dataframe tbody tr th:only-of-type {\n",
       "        vertical-align: middle;\n",
       "    }\n",
       "\n",
       "    .dataframe tbody tr th {\n",
       "        vertical-align: top;\n",
       "    }\n",
       "\n",
       "    .dataframe thead th {\n",
       "        text-align: right;\n",
       "    }\n",
       "</style>\n",
       "<table border=\"1\" class=\"dataframe\">\n",
       "  <thead>\n",
       "    <tr style=\"text-align: right;\">\n",
       "      <th></th>\n",
       "      <th>count</th>\n",
       "      <th>mean</th>\n",
       "      <th>std</th>\n",
       "      <th>min</th>\n",
       "      <th>25%</th>\n",
       "      <th>50%</th>\n",
       "      <th>75%</th>\n",
       "      <th>max</th>\n",
       "    </tr>\n",
       "    <tr>\n",
       "      <th>Region_Description</th>\n",
       "      <th></th>\n",
       "      <th></th>\n",
       "      <th></th>\n",
       "      <th></th>\n",
       "      <th></th>\n",
       "      <th></th>\n",
       "      <th></th>\n",
       "      <th></th>\n",
       "    </tr>\n",
       "  </thead>\n",
       "  <tbody>\n",
       "    <tr>\n",
       "      <th>NSW</th>\n",
       "      <td>29498.0</td>\n",
       "      <td>22264.0</td>\n",
       "      <td>15326.0</td>\n",
       "      <td>182.0</td>\n",
       "      <td>12473.0</td>\n",
       "      <td>18490.0</td>\n",
       "      <td>27273.0</td>\n",
       "      <td>397723.0</td>\n",
       "    </tr>\n",
       "    <tr>\n",
       "      <th>NZ</th>\n",
       "      <td>532.0</td>\n",
       "      <td>36208.0</td>\n",
       "      <td>16444.0</td>\n",
       "      <td>4348.0</td>\n",
       "      <td>24120.0</td>\n",
       "      <td>33457.0</td>\n",
       "      <td>46116.0</td>\n",
       "      <td>116251.0</td>\n",
       "    </tr>\n",
       "    <tr>\n",
       "      <th>QLD</th>\n",
       "      <td>17952.0</td>\n",
       "      <td>25522.0</td>\n",
       "      <td>17488.0</td>\n",
       "      <td>291.0</td>\n",
       "      <td>14830.0</td>\n",
       "      <td>21636.0</td>\n",
       "      <td>31578.0</td>\n",
       "      <td>307536.0</td>\n",
       "    </tr>\n",
       "    <tr>\n",
       "      <th>SA</th>\n",
       "      <td>16632.0</td>\n",
       "      <td>24929.0</td>\n",
       "      <td>17169.0</td>\n",
       "      <td>1364.0</td>\n",
       "      <td>14423.0</td>\n",
       "      <td>21685.0</td>\n",
       "      <td>31082.0</td>\n",
       "      <td>468182.0</td>\n",
       "    </tr>\n",
       "    <tr>\n",
       "      <th>TAS</th>\n",
       "      <td>7095.0</td>\n",
       "      <td>15939.0</td>\n",
       "      <td>11080.0</td>\n",
       "      <td>1342.0</td>\n",
       "      <td>8173.0</td>\n",
       "      <td>12723.0</td>\n",
       "      <td>21364.0</td>\n",
       "      <td>119086.0</td>\n",
       "    </tr>\n",
       "    <tr>\n",
       "      <th>VIC</th>\n",
       "      <td>11406.0</td>\n",
       "      <td>29120.0</td>\n",
       "      <td>18689.0</td>\n",
       "      <td>182.0</td>\n",
       "      <td>16093.0</td>\n",
       "      <td>23955.0</td>\n",
       "      <td>37912.0</td>\n",
       "      <td>212545.0</td>\n",
       "    </tr>\n",
       "    <tr>\n",
       "      <th>WA</th>\n",
       "      <td>34146.0</td>\n",
       "      <td>26687.0</td>\n",
       "      <td>21342.0</td>\n",
       "      <td>1455.0</td>\n",
       "      <td>14453.0</td>\n",
       "      <td>21818.0</td>\n",
       "      <td>33026.0</td>\n",
       "      <td>694545.0</td>\n",
       "    </tr>\n",
       "  </tbody>\n",
       "</table>\n",
       "</div>"
      ],
      "text/plain": [
       "                      count     mean      std     min      25%      50%  \\\n",
       "Region_Description                                                        \n",
       "NSW                 29498.0  22264.0  15326.0   182.0  12473.0  18490.0   \n",
       "NZ                    532.0  36208.0  16444.0  4348.0  24120.0  33457.0   \n",
       "QLD                 17952.0  25522.0  17488.0   291.0  14830.0  21636.0   \n",
       "SA                  16632.0  24929.0  17169.0  1364.0  14423.0  21685.0   \n",
       "TAS                  7095.0  15939.0  11080.0  1342.0   8173.0  12723.0   \n",
       "VIC                 11406.0  29120.0  18689.0   182.0  16093.0  23955.0   \n",
       "WA                  34146.0  26687.0  21342.0  1455.0  14453.0  21818.0   \n",
       "\n",
       "                        75%       max  \n",
       "Region_Description                     \n",
       "NSW                 27273.0  397723.0  \n",
       "NZ                  46116.0  116251.0  \n",
       "QLD                 31578.0  307536.0  \n",
       "SA                  31082.0  468182.0  \n",
       "TAS                 21364.0  119086.0  \n",
       "VIC                 37912.0  212545.0  \n",
       "WA                  33026.0  694545.0  "
      ]
     },
     "execution_count": 247,
     "metadata": {},
     "output_type": "execute_result"
    }
   ],
   "source": [
    "# how does sale_price vary with region ?\n",
    "raw_sale.loc[_fltr3,:].groupby('Region_Description')['Sale_Price'].describe().round()"
   ]
  },
  {
   "cell_type": "code",
   "execution_count": 255,
   "id": "3edec261-9fa1-41b5-8ae0-37edcb983384",
   "metadata": {},
   "outputs": [
    {
     "data": {
      "text/html": [
       "<div>\n",
       "<style scoped>\n",
       "    .dataframe tbody tr th:only-of-type {\n",
       "        vertical-align: middle;\n",
       "    }\n",
       "\n",
       "    .dataframe tbody tr th {\n",
       "        vertical-align: top;\n",
       "    }\n",
       "\n",
       "    .dataframe thead tr th {\n",
       "        text-align: left;\n",
       "    }\n",
       "\n",
       "    .dataframe thead tr:last-of-type th {\n",
       "        text-align: right;\n",
       "    }\n",
       "</style>\n",
       "<table border=\"1\" class=\"dataframe\">\n",
       "  <thead>\n",
       "    <tr>\n",
       "      <th></th>\n",
       "      <th colspan=\"8\" halign=\"left\">Odometer</th>\n",
       "    </tr>\n",
       "    <tr>\n",
       "      <th></th>\n",
       "      <th>count</th>\n",
       "      <th>mean</th>\n",
       "      <th>std</th>\n",
       "      <th>min</th>\n",
       "      <th>25%</th>\n",
       "      <th>50%</th>\n",
       "      <th>75%</th>\n",
       "      <th>max</th>\n",
       "    </tr>\n",
       "    <tr>\n",
       "      <th>Region_Description</th>\n",
       "      <th></th>\n",
       "      <th></th>\n",
       "      <th></th>\n",
       "      <th></th>\n",
       "      <th></th>\n",
       "      <th></th>\n",
       "      <th></th>\n",
       "      <th></th>\n",
       "    </tr>\n",
       "  </thead>\n",
       "  <tbody>\n",
       "    <tr>\n",
       "      <th>NSW</th>\n",
       "      <td>29497.0</td>\n",
       "      <td>86555.0</td>\n",
       "      <td>62473.0</td>\n",
       "      <td>0.0</td>\n",
       "      <td>44220.0</td>\n",
       "      <td>75192.0</td>\n",
       "      <td>117791.0</td>\n",
       "      <td>4000380.0</td>\n",
       "    </tr>\n",
       "    <tr>\n",
       "      <th>NZ</th>\n",
       "      <td>531.0</td>\n",
       "      <td>55350.0</td>\n",
       "      <td>38804.0</td>\n",
       "      <td>15.0</td>\n",
       "      <td>24250.0</td>\n",
       "      <td>49000.0</td>\n",
       "      <td>78000.0</td>\n",
       "      <td>234506.0</td>\n",
       "    </tr>\n",
       "    <tr>\n",
       "      <th>QLD</th>\n",
       "      <td>17948.0</td>\n",
       "      <td>78459.0</td>\n",
       "      <td>56039.0</td>\n",
       "      <td>0.0</td>\n",
       "      <td>36711.0</td>\n",
       "      <td>69552.0</td>\n",
       "      <td>109593.0</td>\n",
       "      <td>489924.0</td>\n",
       "    </tr>\n",
       "    <tr>\n",
       "      <th>SA</th>\n",
       "      <td>16622.0</td>\n",
       "      <td>74602.0</td>\n",
       "      <td>50339.0</td>\n",
       "      <td>1.0</td>\n",
       "      <td>38442.0</td>\n",
       "      <td>68724.0</td>\n",
       "      <td>102111.0</td>\n",
       "      <td>1371376.0</td>\n",
       "    </tr>\n",
       "    <tr>\n",
       "      <th>TAS</th>\n",
       "      <td>7084.0</td>\n",
       "      <td>117097.0</td>\n",
       "      <td>73631.0</td>\n",
       "      <td>0.0</td>\n",
       "      <td>59000.0</td>\n",
       "      <td>108904.0</td>\n",
       "      <td>165448.0</td>\n",
       "      <td>597079.0</td>\n",
       "    </tr>\n",
       "    <tr>\n",
       "      <th>VIC</th>\n",
       "      <td>11406.0</td>\n",
       "      <td>63249.0</td>\n",
       "      <td>48775.0</td>\n",
       "      <td>0.0</td>\n",
       "      <td>22624.0</td>\n",
       "      <td>55004.0</td>\n",
       "      <td>92850.0</td>\n",
       "      <td>397000.0</td>\n",
       "    </tr>\n",
       "    <tr>\n",
       "      <th>WA</th>\n",
       "      <td>34141.0</td>\n",
       "      <td>79914.0</td>\n",
       "      <td>56188.0</td>\n",
       "      <td>0.0</td>\n",
       "      <td>36403.0</td>\n",
       "      <td>72843.0</td>\n",
       "      <td>112545.0</td>\n",
       "      <td>475000.0</td>\n",
       "    </tr>\n",
       "  </tbody>\n",
       "</table>\n",
       "</div>"
      ],
      "text/plain": [
       "                   Odometer                                              \\\n",
       "                      count      mean      std   min      25%       50%   \n",
       "Region_Description                                                        \n",
       "NSW                 29497.0   86555.0  62473.0   0.0  44220.0   75192.0   \n",
       "NZ                    531.0   55350.0  38804.0  15.0  24250.0   49000.0   \n",
       "QLD                 17948.0   78459.0  56039.0   0.0  36711.0   69552.0   \n",
       "SA                  16622.0   74602.0  50339.0   1.0  38442.0   68724.0   \n",
       "TAS                  7084.0  117097.0  73631.0   0.0  59000.0  108904.0   \n",
       "VIC                 11406.0   63249.0  48775.0   0.0  22624.0   55004.0   \n",
       "WA                  34141.0   79914.0  56188.0   0.0  36403.0   72843.0   \n",
       "\n",
       "                                         \n",
       "                         75%        max  \n",
       "Region_Description                       \n",
       "NSW                 117791.0  4000380.0  \n",
       "NZ                   78000.0   234506.0  \n",
       "QLD                 109593.0   489924.0  \n",
       "SA                  102111.0  1371376.0  \n",
       "TAS                 165448.0   597079.0  \n",
       "VIC                  92850.0   397000.0  \n",
       "WA                  112545.0   475000.0  "
      ]
     },
     "execution_count": 255,
     "metadata": {},
     "output_type": "execute_result"
    }
   ],
   "source": [
    "# how does odometer vary with region ?\n",
    "raw_sale.loc[_fltr3,:].groupby('Region_Description')[['Odometer']].describe().round() # unusually low odometer reading for NZ (low sample size)"
   ]
  },
  {
   "cell_type": "markdown",
   "id": "dffca9ff-4ad4-4883-b432-b2a963f56297",
   "metadata": {},
   "source": [
    "### Odometer"
   ]
  },
  {
   "cell_type": "code",
   "execution_count": 265,
   "id": "a1bcee69-44b5-4c3a-9231-7f0efb742cec",
   "metadata": {},
   "outputs": [
    {
     "data": {
      "text/plain": [
       "<AxesSubplot:xlabel='Odometer', ylabel='Sale_Price'>"
      ]
     },
     "execution_count": 265,
     "metadata": {},
     "output_type": "execute_result"
    },
    {
     "data": {
      "image/png": "[encoded data removed]",
      "text/plain": [
       "<Figure size 640x480 with 1 Axes>"
      ]
     },
     "metadata": {},
     "output_type": "display_data"
    }
   ],
   "source": [
    "# does odometer reading influence sale_price\n",
    "raw_sale.plot.scatter(x='Odometer',y='Sale_Price',loglog=True ,alpha=0.1) \n",
    "# seems like sudden drop in sale price after a threshold of odometer, non-linear models"
   ]
  },
  {
   "cell_type": "code",
   "execution_count": 272,
   "id": "1359e3b4-e6ff-4d33-92e2-d8f1354b2f85",
   "metadata": {},
   "outputs": [
    {
     "data": {
      "text/plain": [
       "<AxesSubplot:xlabel='Year_Group', ylabel='Odometer'>"
      ]
     },
     "execution_count": 272,
     "metadata": {},
     "output_type": "execute_result"
    },
    {
     "data": {
      "image/png": "[encoded data removed]",
      "text/plain": [
       "<Figure size 640x480 with 1 Axes>"
      ]
     },
     "metadata": {},
     "output_type": "display_data"
    }
   ],
   "source": [
    "raw_sale.plot.scatter(y='Odometer',x='Year_Group',logy=True, alpha=0.1)\n",
    "# non-linear interaction of odometer and make_year"
   ]
  },
  {
   "cell_type": "code",
   "execution_count": null,
   "id": "bd4ef4ce-c8c3-4643-a603-cee45f102806",
   "metadata": {},
   "outputs": [],
   "source": [
    "# does km/year influence sale_price ?\n"
   ]
  },
  {
   "cell_type": "code",
   "execution_count": null,
   "id": "2710456e-c33d-4483-8a5a-00cc68d43d7d",
   "metadata": {},
   "outputs": [],
   "source": []
  }
 ],
 "metadata": {
  "kernelspec": {
   "display_name": "auto",
   "language": "python",
   "name": "auto"
  },
  "language_info": {
   "codemirror_mode": {
    "name": "ipython",
    "version": 3
   },
   "file_extension": ".py",
   "mimetype": "text/x-python",
   "name": "python",
   "nbconvert_exporter": "python",
   "pygments_lexer": "ipython3",
   "version": "3.10.4"
  }
 },
 "nbformat": 4,
 "nbformat_minor": 5
}
